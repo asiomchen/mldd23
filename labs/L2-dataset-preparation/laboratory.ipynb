{
 "cells": [
  {
   "cell_type": "code",
   "execution_count": 1,
   "id": "7aa51028",
   "metadata": {
    "ExecuteTime": {
     "end_time": "2023-06-17T09:30:24.726326346Z",
     "start_time": "2023-06-17T09:30:24.723447905Z"
    }
   },
   "outputs": [],
   "source": [
    "import sys\n",
    "sys.path.append('..')"
   ]
  },
  {
   "cell_type": "markdown",
   "id": "39fed690",
   "metadata": {},
   "source": [
    "# Key Molecular Properties in Drug Design\n",
    "\n",
    "Drug design is a process that needs to take into accounts multiple parameters. First, the molecule needs to be of course active, i.e. interact with its biological target to induce some therapeutic effect. Second, this molecule should also have a set of other desirable molecular properties that are known under the term ADMET (absorption, distribution, metabolism, excretion, and toxicity). These properties ensure that our compound will reach its target and will not induce any side effects.\n",
    "\n",
    "## Activity\n",
    "\n",
    "Biological activity of a compound is measured in a laboratory by conducting biological **assays** that tests how well our molecule binds and interacts with its biological target. An assay can be done using proteins or whole cells, and there are many types of activity measurements that can be done. For example, we can test only if the molecule binds to its target or look for a specific interaction that causes a desirable effect or inhibition. The activity values are usually expressed as:\n",
    "\n",
    "- **EC$_{50}$**/**IC$_{50}$** - molecule concentration at which half of the effect or inhibition (blockage) is reached; the lower this value is, the stronger the effect induced by the molecule is.\n",
    "- **Ki** - the inhibition constant, which measures the binding affinity; again, lower values correspond to stronger binding.\n",
    "- **Inhibition in %** - the percentage of inhibited proteins.\n",
    "\n",
    "Oftentimes, XC$_{50}$ and Ki values are converted to the negative logarithmic scale. This is denoted by the letter \"*p*\" in front of the activity type. This operation reduces the impact of extremely high values. After this transformation, higher values correspond to stronger activity.\n",
    "\n",
    "For example, pIC$_{50}$ = $-\\log_{10} $ IC$_{50}$.\n",
    "\n",
    "\n",
    "## ADMET\n",
    "\n",
    "There are myriads of chemical properties that can be measured to ensure the success of our molecule. Depending on the drug target, we might want to optimize different ADMET properties. If our drug needs to work in the central nervous system, we need to check the **blood-brain barrier permeability**. Other drugs that are administered orally need to **absorbed in the intestine**. Our molecule needs to be **metabolically stable**, which means it is not metabolized before it reaches its destination. On the other hand, we need to make sure it is finally metabolized and does not accumulate in the organism. Eventually, drugs can not be **toxic** or induce any serious side effects by interacting with other biological targets (**off-targets**). This is a difficult property to optimize as toxicity is a non-specific property - there are many possible interactions that can cause toxicity, e.g. **hERG inhibition** leads to severe cardiotoxicity (blocked potassium ion channels will cause heart failure)."
   ]
  },
  {
   "cell_type": "markdown",
   "id": "48922344",
   "metadata": {},
   "source": [
    "# ChEMBL\n",
    "\n",
    "[ChEMBL](https://www.ebi.ac.uk/chembl/) is a public database of bioactive compounds. The experimentally measured data points are gathered here and they can be used to train machine learning models. It should be noted that this database is manually curated, and the data is pulled from publications and patents. The quality of this data is not always perfect, and the same compound can have multiple drastically different activity values depending on the site the experiments were conducted in. Sometimes these values can contain errors, either caused by humans or incorrect parsing of source documents.\n",
    "\n",
    "![assay](https://upload.wikimedia.org/wikipedia/commons/thumb/a/a0/96_well_plate.jpg/1599px-96_well_plate.jpg)"
   ]
  },
  {
   "cell_type": "markdown",
   "id": "7c10da50",
   "metadata": {},
   "source": [
    "Activity data extracted from ChEMBL can be used to train ML models. Because we use the structural information (fingerprints or molecular graphs), these models are also called **QSAR models**, where QSAR stands for Quantitative Structure-Activity Relationship."
   ]
  },
  {
   "cell_type": "markdown",
   "id": "fca4ef60",
   "metadata": {},
   "source": [
    "**Exercise 1.** Choose one of the targets below and download activity data for this target from ChEMBL. Use one of the activity types (e.g. Ki or IC$_{50}$) to train an ML model. Split the data and print the results of evaluation on the testing set.\n",
    "\n",
    "- MAO-B (monoamine oxidase B) - its inhibitors can be used to treat symptoms of Parkinson's disease\n",
    "- ACE2 (angiotensin-converting enzyme 2) - serves as an entry point for SARS-CoV-2\n",
    "- COX-2 (cyclooxygenase 2) - the taget of non-steroidal anti-inflammatory drugs\n",
    "- 5-HT3 (serotonin receptor 3) - common target of antiemetics (drugs against vomiting nad nausea)\n",
    "- hERG - potassium ion channel that is often connected to cardiotoxicity (when inhibited)"
   ]
  },
  {
   "cell_type": "code",
   "execution_count": 61,
   "id": "643593fc",
   "metadata": {
    "ExecuteTime": {
     "end_time": "2023-06-17T10:30:01.215617477Z",
     "start_time": "2023-06-17T10:30:01.150842956Z"
    }
   },
   "outputs": [],
   "source": [
    "import pandas as pd\n",
    "import matplotlib.pyplot as plt\n",
    "import numpy as np\n",
    "from rdkit import Chem\n",
    "from rdkit.Chem import AllChem"
   ]
  },
  {
   "cell_type": "code",
   "execution_count": 79,
   "outputs": [
    {
     "data": {
      "text/plain": "  Molecule ChEMBL ID Molecule Name Molecule Max Phase Molecular Weight  \\\n0       CHEMBL597737           NaN               None           338.39   \n1       CHEMBL403181           NaN               None           512.68   \n2       CHEMBL257946           NaN               None           498.66   \n3       CHEMBL550652           NaN               None           325.42   \n4       CHEMBL552196           NaN               None           341.41   \n\n  #RO5 Violations AlogP Compound Key  \\\n0               0  3.31           39   \n1               2  5.63           20   \n2               1  5.37           18   \n3               0  2.26           1c   \n4               0  3.13           1f   \n\n                                              Smiles Standard Type  \\\n0             Fc1ccccc1-c1ccc2oc(N3CCN4CCC3CC4)nc2n1          IC50   \n1  CCc1noc2cc3c(cc12)CCN(CCCSc1nnc(-c2cccc4nc(C)c...          IC50   \n2  Cc1ccc2c(-c3nnc(SCCCN4CCc5cc6onc(C)c6cc5CC4)n3...          IC50   \n3              Cn1cnnc1C1CCN(C(=O)NC2CC2c2ccccc2)CC1          IC50   \n4           Cc1c(O)noc1C1CCN(C(=O)NC2CC2c2ccccc2)CC1          IC50   \n\n  Standard Relation  ...  Target Organism     Target Type  Document ChEMBL ID  \\\n0               '='  ...     Homo sapiens  SINGLE PROTEIN       CHEMBL1159071   \n1               '='  ...     Homo sapiens  SINGLE PROTEIN       CHEMBL1142271   \n2               '='  ...     Homo sapiens  SINGLE PROTEIN       CHEMBL1142271   \n3               '>'  ...     Homo sapiens  SINGLE PROTEIN       CHEMBL1152451   \n4               '>'  ...     Homo sapiens  SINGLE PROTEIN       CHEMBL1152451   \n\n  Source ID     Source Description      Document Journal  Document Year  \\\n0         1  Scientific Literature            J Med Chem         2010.0   \n1         1  Scientific Literature  Bioorg Med Chem Lett         2008.0   \n2         1  Scientific Literature  Bioorg Med Chem Lett         2008.0   \n3         1  Scientific Literature            J Med Chem         2009.0   \n4         1  Scientific Literature            J Med Chem         2009.0   \n\n  Cell ChEMBL ID Properties Action Type  \n0           None        NaN         NaN  \n1           None        NaN         NaN  \n2           None        NaN         NaN  \n3           None        NaN         NaN  \n4           None        NaN         NaN  \n\n[5 rows x 46 columns]",
      "text/html": "<div>\n<style scoped>\n    .dataframe tbody tr th:only-of-type {\n        vertical-align: middle;\n    }\n\n    .dataframe tbody tr th {\n        vertical-align: top;\n    }\n\n    .dataframe thead th {\n        text-align: right;\n    }\n</style>\n<table border=\"1\" class=\"dataframe\">\n  <thead>\n    <tr style=\"text-align: right;\">\n      <th></th>\n      <th>Molecule ChEMBL ID</th>\n      <th>Molecule Name</th>\n      <th>Molecule Max Phase</th>\n      <th>Molecular Weight</th>\n      <th>#RO5 Violations</th>\n      <th>AlogP</th>\n      <th>Compound Key</th>\n      <th>Smiles</th>\n      <th>Standard Type</th>\n      <th>Standard Relation</th>\n      <th>...</th>\n      <th>Target Organism</th>\n      <th>Target Type</th>\n      <th>Document ChEMBL ID</th>\n      <th>Source ID</th>\n      <th>Source Description</th>\n      <th>Document Journal</th>\n      <th>Document Year</th>\n      <th>Cell ChEMBL ID</th>\n      <th>Properties</th>\n      <th>Action Type</th>\n    </tr>\n  </thead>\n  <tbody>\n    <tr>\n      <th>0</th>\n      <td>CHEMBL597737</td>\n      <td>NaN</td>\n      <td>None</td>\n      <td>338.39</td>\n      <td>0</td>\n      <td>3.31</td>\n      <td>39</td>\n      <td>Fc1ccccc1-c1ccc2oc(N3CCN4CCC3CC4)nc2n1</td>\n      <td>IC50</td>\n      <td>'='</td>\n      <td>...</td>\n      <td>Homo sapiens</td>\n      <td>SINGLE PROTEIN</td>\n      <td>CHEMBL1159071</td>\n      <td>1</td>\n      <td>Scientific Literature</td>\n      <td>J Med Chem</td>\n      <td>2010.0</td>\n      <td>None</td>\n      <td>NaN</td>\n      <td>NaN</td>\n    </tr>\n    <tr>\n      <th>1</th>\n      <td>CHEMBL403181</td>\n      <td>NaN</td>\n      <td>None</td>\n      <td>512.68</td>\n      <td>2</td>\n      <td>5.63</td>\n      <td>20</td>\n      <td>CCc1noc2cc3c(cc12)CCN(CCCSc1nnc(-c2cccc4nc(C)c...</td>\n      <td>IC50</td>\n      <td>'='</td>\n      <td>...</td>\n      <td>Homo sapiens</td>\n      <td>SINGLE PROTEIN</td>\n      <td>CHEMBL1142271</td>\n      <td>1</td>\n      <td>Scientific Literature</td>\n      <td>Bioorg Med Chem Lett</td>\n      <td>2008.0</td>\n      <td>None</td>\n      <td>NaN</td>\n      <td>NaN</td>\n    </tr>\n    <tr>\n      <th>2</th>\n      <td>CHEMBL257946</td>\n      <td>NaN</td>\n      <td>None</td>\n      <td>498.66</td>\n      <td>1</td>\n      <td>5.37</td>\n      <td>18</td>\n      <td>Cc1ccc2c(-c3nnc(SCCCN4CCc5cc6onc(C)c6cc5CC4)n3...</td>\n      <td>IC50</td>\n      <td>'='</td>\n      <td>...</td>\n      <td>Homo sapiens</td>\n      <td>SINGLE PROTEIN</td>\n      <td>CHEMBL1142271</td>\n      <td>1</td>\n      <td>Scientific Literature</td>\n      <td>Bioorg Med Chem Lett</td>\n      <td>2008.0</td>\n      <td>None</td>\n      <td>NaN</td>\n      <td>NaN</td>\n    </tr>\n    <tr>\n      <th>3</th>\n      <td>CHEMBL550652</td>\n      <td>NaN</td>\n      <td>None</td>\n      <td>325.42</td>\n      <td>0</td>\n      <td>2.26</td>\n      <td>1c</td>\n      <td>Cn1cnnc1C1CCN(C(=O)NC2CC2c2ccccc2)CC1</td>\n      <td>IC50</td>\n      <td>'&gt;'</td>\n      <td>...</td>\n      <td>Homo sapiens</td>\n      <td>SINGLE PROTEIN</td>\n      <td>CHEMBL1152451</td>\n      <td>1</td>\n      <td>Scientific Literature</td>\n      <td>J Med Chem</td>\n      <td>2009.0</td>\n      <td>None</td>\n      <td>NaN</td>\n      <td>NaN</td>\n    </tr>\n    <tr>\n      <th>4</th>\n      <td>CHEMBL552196</td>\n      <td>NaN</td>\n      <td>None</td>\n      <td>341.41</td>\n      <td>0</td>\n      <td>3.13</td>\n      <td>1f</td>\n      <td>Cc1c(O)noc1C1CCN(C(=O)NC2CC2c2ccccc2)CC1</td>\n      <td>IC50</td>\n      <td>'&gt;'</td>\n      <td>...</td>\n      <td>Homo sapiens</td>\n      <td>SINGLE PROTEIN</td>\n      <td>CHEMBL1152451</td>\n      <td>1</td>\n      <td>Scientific Literature</td>\n      <td>J Med Chem</td>\n      <td>2009.0</td>\n      <td>None</td>\n      <td>NaN</td>\n      <td>NaN</td>\n    </tr>\n  </tbody>\n</table>\n<p>5 rows × 46 columns</p>\n</div>"
     },
     "execution_count": 79,
     "metadata": {},
     "output_type": "execute_result"
    }
   ],
   "source": [
    "herg = pd.read_csv('herg_chembl.csv', sep=';')\n",
    "herg.head()"
   ],
   "metadata": {
    "collapsed": false,
    "ExecuteTime": {
     "end_time": "2023-06-17T10:34:27.577238166Z",
     "start_time": "2023-06-17T10:34:27.415933806Z"
    }
   }
  },
  {
   "cell_type": "code",
   "execution_count": 80,
   "outputs": [
    {
     "data": {
      "text/plain": "'='     9502\n'>'     3623\n'<'      251\n'>='      15\n'<='       4\n'~'        1\nName: Standard Relation, dtype: int64"
     },
     "execution_count": 80,
     "metadata": {},
     "output_type": "execute_result"
    }
   ],
   "source": [
    "herg['Standard Relation'].value_counts()"
   ],
   "metadata": {
    "collapsed": false,
    "ExecuteTime": {
     "end_time": "2023-06-17T10:34:28.493770148Z",
     "start_time": "2023-06-17T10:34:28.476863033Z"
    }
   }
  },
  {
   "cell_type": "code",
   "execution_count": 81,
   "outputs": [
    {
     "data": {
      "text/plain": "nM         13387\nug.mL-1       12\nucm            3\nµM             1\nName: Standard Units, dtype: int64"
     },
     "execution_count": 81,
     "metadata": {},
     "output_type": "execute_result"
    }
   ],
   "source": [
    "herg['Standard Units'].value_counts()"
   ],
   "metadata": {
    "collapsed": false,
    "ExecuteTime": {
     "end_time": "2023-06-17T10:34:29.563420555Z",
     "start_time": "2023-06-17T10:34:29.551669965Z"
    }
   }
  },
  {
   "cell_type": "code",
   "execution_count": 82,
   "outputs": [],
   "source": [
    "herg = herg[herg['Standard Units'] == 'nM']\n",
    "#herg = herg[herg['Standard Relation'] == '=']"
   ],
   "metadata": {
    "collapsed": false,
    "ExecuteTime": {
     "end_time": "2023-06-17T10:34:31.872047514Z",
     "start_time": "2023-06-17T10:34:31.837605271Z"
    }
   }
  },
  {
   "cell_type": "code",
   "execution_count": 85,
   "outputs": [],
   "source": [
    "herg['Standard Relation'] = herg['Standard Relation'].astype('category')"
   ],
   "metadata": {
    "collapsed": false,
    "ExecuteTime": {
     "end_time": "2023-06-17T10:35:27.118026023Z",
     "start_time": "2023-06-17T10:35:27.070628716Z"
    }
   }
  },
  {
   "cell_type": "code",
   "execution_count": 94,
   "outputs": [
    {
     "data": {
      "text/plain": "9492"
     },
     "execution_count": 94,
     "metadata": {},
     "output_type": "execute_result"
    }
   ],
   "source": [
    "herg = herg[herg['Standard Relation'] == \"'='\"]\n",
    "len(herg)"
   ],
   "metadata": {
    "collapsed": false,
    "ExecuteTime": {
     "end_time": "2023-06-17T10:39:38.089973102Z",
     "start_time": "2023-06-17T10:39:38.048309944Z"
    }
   }
  },
  {
   "cell_type": "code",
   "execution_count": 97,
   "outputs": [
    {
     "name": "stderr",
     "output_type": "stream",
     "text": [
      "/tmp/ipykernel_51875/2999269586.py:1: SettingWithCopyWarning: \n",
      "A value is trying to be set on a copy of a slice from a DataFrame.\n",
      "Try using .loc[row_indexer,col_indexer] = value instead\n",
      "\n",
      "See the caveats in the documentation: https://pandas.pydata.org/pandas-docs/stable/user_guide/indexing.html#returning-a-view-versus-a-copy\n",
      "  herg['pIC50'] = -np.log10(herg['Standard Value'].astype(float) * 1e-9)\n"
     ]
    }
   ],
   "source": [
    "herg['pIC50'] = -np.log10(herg['Standard Value'].astype(float) * 1e-9)"
   ],
   "metadata": {
    "collapsed": false,
    "ExecuteTime": {
     "end_time": "2023-06-17T10:41:17.966376650Z",
     "start_time": "2023-06-17T10:41:17.895262106Z"
    }
   }
  },
  {
   "cell_type": "code",
   "execution_count": 100,
   "outputs": [
    {
     "data": {
      "text/plain": "<Axes: >"
     },
     "execution_count": 100,
     "metadata": {},
     "output_type": "execute_result"
    },
    {
     "data": {
      "text/plain": "<Figure size 640x480 with 1 Axes>",
      "image/png": "[encoded data removed]"
     },
     "metadata": {},
     "output_type": "display_data"
    }
   ],
   "source": [
    "herg['pIC50'].hist(bins=100)"
   ],
   "metadata": {
    "collapsed": false,
    "ExecuteTime": {
     "end_time": "2023-06-17T10:41:38.074020149Z",
     "start_time": "2023-06-17T10:41:37.875728083Z"
    }
   }
  },
  {
   "cell_type": "markdown",
   "id": "b19db5ec",
   "metadata": {},
   "source": [
    "If you want to automate your data pipelines, you can use the ChEMBL Python API, as shown in the example below."
   ]
  },
  {
   "cell_type": "code",
   "execution_count": 104,
   "id": "2d49d665",
   "metadata": {
    "ExecuteTime": {
     "end_time": "2023-06-17T10:42:11.743328604Z",
     "start_time": "2023-06-17T10:42:11.732329397Z"
    }
   },
   "outputs": [],
   "source": [
    "from chembl_webresource_client.new_client import new_client\n",
    "from tqdm.notebook import tqdm\n",
    "\n",
    "# target = new_client.target\n",
    "# activity = new_client.activity\n",
    "# bace = target.filter(pref_name__iexact='serotonin receptor 3').only('target_chembl_id')[0]\n",
    "# activities_provider = activity.filter(target_chembl_id=bace['target_chembl_id']).filter(standard_type=\"IC50\")\n",
    "# activities = list(tqdm(activities_provider))\n",
    "# df_bace = pd.DataFrame.from_records(activities)"
   ]
  },
  {
   "cell_type": "code",
   "execution_count": 105,
   "id": "63454260",
   "metadata": {
    "ExecuteTime": {
     "end_time": "2023-06-17T10:42:12.310874614Z",
     "start_time": "2023-06-17T10:42:12.297320932Z"
    }
   },
   "outputs": [],
   "source": [
    "# molecule = new_client.molecule\n",
    "# compounds_provider = molecule.filter(\n",
    "#     molecule_chembl_id__in=list(df_bace[\"molecule_chembl_id\"])\n",
    "# ).only(\"molecule_chembl_id\", \"molecule_structures\")\n",
    "# compounds = list(tqdm(compounds_provider))\n",
    "# df_cmpds = pd.DataFrame.from_records(compounds)\n",
    "# print(f\"DataFrame shape: {df_cmpds.shape}\")"
   ]
  },
  {
   "cell_type": "code",
   "execution_count": 110,
   "outputs": [],
   "source": [
    "from rdkit.Chem import rdMolDescriptors, Descriptors, Lipinski, Crippen\n",
    "from rdkit.Chem.Fragments import fr_Al_OH, fr_COO, fr_Ar_OH, fr_imide, fr_nitro, fr_sulfonamd, fr_ester, fr_amide, fr_aldehyde, fr_epoxide, fr_halogen, fr_methoxy, fr_phenol, fr_ether, fr_NH1, fr_NH0, fr_NH2\n",
    "import warnings\n",
    "from rdkit.Chem import rdPartialCharges\n",
    "\n",
    "class Featurizer:\n",
    "    def __init__(self, y_column, smiles_col='Drug', **kwargs):\n",
    "        self.y_column = y_column\n",
    "        self.smiles_col = smiles_col\n",
    "        self.__dict__.update(kwargs)\n",
    "\n",
    "    def __call__(self, df):\n",
    "        raise NotImplementedError()\n",
    "\n",
    "\n",
    "class PropertyFeaturizer(Featurizer):\n",
    "    def __init__(self, y_column='value', smiles_col='Smiles', **kwargs):\n",
    "        super().__init__(y_column, smiles_col, **kwargs)\n",
    "        self.property_name = self.__class__.__name__.replace('Featurizer', '')\n",
    "\n",
    "\n",
    "    def __call__(self, df):\n",
    "        features = []\n",
    "        labels = []\n",
    "        for i, row in df.iterrows():\n",
    "            smiles = row[self.smiles_col]\n",
    "            mol = Chem.MolFromSmiles(smiles)\n",
    "            if mol is None:\n",
    "                warnings.warn(f'Could not parse {smiles} as SMILES')\n",
    "                continue\n",
    "            features.append(self._get_properties(mol))\n",
    "            labels.append(row[self.y_column])\n",
    "        return features, df[self.y_column].to_list()\n",
    "    def _get_properties(self, mol):\n",
    "        num_C = self.get_atom_count(mol, 'C')\n",
    "        num_N = self.get_atom_count(mol, 'N')\n",
    "        num_O = self.get_atom_count(mol, 'O')\n",
    "        num_halogen = fr_halogen(mol)\n",
    "        TPSA = rdMolDescriptors.CalcTPSA(mol)\n",
    "        MW = Descriptors.MolWt(mol)\n",
    "        HBA = Lipinski.NumHAcceptors(mol)\n",
    "        HBD = Lipinski.NumHDonors(mol)\n",
    "        FractionCSP3 = rdMolDescriptors.CalcFractionCSP3(mol)\n",
    "        logP = Crippen.MolLogP(mol)\n",
    "        graph_index = Chem.GraphDescriptors.BalabanJ(mol)\n",
    "        num_rotatable_bonds = Lipinski.NumRotatableBonds(mol)\n",
    "        mol_rf = Crippen.MolMR(mol)\n",
    "        min_partial_charge, max_partial_charge = self._get_min_max_charges(mol)\n",
    "        avg_heavy_atom_weight = Chem.Lipinski.HeavyAtomCount(mol)\n",
    "        num_valence_electrons = Descriptors.NumValenceElectrons(mol)\n",
    "        AP = self.aromatic_proportion(mol)\n",
    "        bertzCT = Chem.GraphDescriptors.BertzCT(mol)\n",
    "        HallKierAlpha = Chem.rdMolDescriptors.CalcHallKierAlpha(mol)\n",
    "        maccs = rdMolDescriptors.GetMACCSKeysFingerprint(mol)\n",
    "        maccs = np.array(maccs)\n",
    "\n",
    "        return [num_C, num_N, num_O, num_halogen, TPSA, MW, HBA, HBD, FractionCSP3, graph_index, num_rotatable_bonds, mol_rf, avg_heavy_atom_weight, num_valence_electrons, logP, AP, min_partial_charge, max_partial_charge, bertzCT, HallKierAlpha] + maccs.tolist()\n",
    "    def get_atom_count(self, mol, atom):\n",
    "        count = mol.GetSubstructMatches(Chem.MolFromSmarts(f'[{atom}]'))\n",
    "        return len(count)\n",
    "    def _get_min_max_charges(self, mol):\n",
    "        rdPartialCharges.ComputeGasteigerCharges(mol)\n",
    "        charges = [atom.GetProp('_GasteigerCharge') for atom in mol.GetAtoms()]\n",
    "        max_partial_charge = float(max(charges))\n",
    "        min_partial_charge = float(min(charges))\n",
    "        # if nan replace with 0\n",
    "        if np.isnan(max_partial_charge) or np.isinf(max_partial_charge):\n",
    "            max_partial_charge = 0\n",
    "        if np.isnan(min_partial_charge) or np.isinf(min_partial_charge):\n",
    "            min_partial_charge = 0\n",
    "        return min_partial_charge, max_partial_charge\n",
    "    def aromatic_proportion(self, mol):\n",
    "        aromatic_atoms = [atom.GetIsAromatic() for atom in mol.GetAtoms()]\n",
    "        all_heavy_atoms = len([atom for atom in mol.GetAtoms() if atom.GetAtomicNum() != 1])\n",
    "        return sum(aromatic_atoms) / all_heavy_atoms\n"
   ],
   "metadata": {
    "collapsed": false,
    "ExecuteTime": {
     "end_time": "2023-06-17T10:43:19.048666296Z",
     "start_time": "2023-06-17T10:43:18.975605970Z"
    }
   }
  },
  {
   "cell_type": "markdown",
   "source": [
    "### IC50"
   ],
   "metadata": {
    "collapsed": false
   }
  },
  {
   "cell_type": "code",
   "execution_count": 111,
   "outputs": [],
   "source": [
    "# TODO: Use your training script\n",
    "from sklearn.model_selection import train_test_split\n",
    "df_train, df_test = train_test_split(herg, random_state=42, train_size=0.8)"
   ],
   "metadata": {
    "collapsed": false,
    "ExecuteTime": {
     "end_time": "2023-06-17T10:43:29.380498384Z",
     "start_time": "2023-06-17T10:43:29.316109768Z"
    }
   }
  },
  {
   "cell_type": "code",
   "execution_count": 112,
   "outputs": [
    {
     "data": {
      "text/plain": "(7593, 1899)"
     },
     "execution_count": 112,
     "metadata": {},
     "output_type": "execute_result"
    }
   ],
   "source": [
    "len(df_train), len(df_test)"
   ],
   "metadata": {
    "collapsed": false,
    "ExecuteTime": {
     "end_time": "2023-06-17T10:43:29.985754442Z",
     "start_time": "2023-06-17T10:43:29.945106110Z"
    }
   }
  },
  {
   "cell_type": "code",
   "execution_count": 113,
   "outputs": [],
   "source": [
    "X_train, y_train = PropertyFeaturizer(y_column='Standard Value')(df_train)\n",
    "X_test, y_test = PropertyFeaturizer(y_column='Standard Value')(df_test)"
   ],
   "metadata": {
    "collapsed": false,
    "ExecuteTime": {
     "end_time": "2023-06-17T10:44:12.050892258Z",
     "start_time": "2023-06-17T10:43:30.807693878Z"
    }
   }
  },
  {
   "cell_type": "code",
   "execution_count": 114,
   "outputs": [],
   "source": [
    "from sklearn.ensemble import GradientBoostingRegressor, RandomForestRegressor\n",
    "model = RandomForestRegressor()"
   ],
   "metadata": {
    "collapsed": false,
    "ExecuteTime": {
     "end_time": "2023-06-17T10:44:14.757535375Z",
     "start_time": "2023-06-17T10:44:14.731864127Z"
    }
   }
  },
  {
   "cell_type": "code",
   "execution_count": 115,
   "outputs": [
    {
     "data": {
      "text/plain": "RandomForestRegressor()",
      "text/html": "<style>#sk-container-id-6 {color: black;background-color: white;}#sk-container-id-6 pre{padding: 0;}#sk-container-id-6 div.sk-toggleable {background-color: white;}#sk-container-id-6 label.sk-toggleable__label {cursor: pointer;display: block;width: 100%;margin-bottom: 0;padding: 0.3em;box-sizing: border-box;text-align: center;}#sk-container-id-6 label.sk-toggleable__label-arrow:before {content: \"▸\";float: left;margin-right: 0.25em;color: #696969;}#sk-container-id-6 label.sk-toggleable__label-arrow:hover:before {color: black;}#sk-container-id-6 div.sk-estimator:hover label.sk-toggleable__label-arrow:before {color: black;}#sk-container-id-6 div.sk-toggleable__content {max-height: 0;max-width: 0;overflow: hidden;text-align: left;background-color: #f0f8ff;}#sk-container-id-6 div.sk-toggleable__content pre {margin: 0.2em;color: black;border-radius: 0.25em;background-color: #f0f8ff;}#sk-container-id-6 input.sk-toggleable__control:checked~div.sk-toggleable__content {max-height: 200px;max-width: 100%;overflow: auto;}#sk-container-id-6 input.sk-toggleable__control:checked~label.sk-toggleable__label-arrow:before {content: \"▾\";}#sk-container-id-6 div.sk-estimator input.sk-toggleable__control:checked~label.sk-toggleable__label {background-color: #d4ebff;}#sk-container-id-6 div.sk-label input.sk-toggleable__control:checked~label.sk-toggleable__label {background-color: #d4ebff;}#sk-container-id-6 input.sk-hidden--visually {border: 0;clip: rect(1px 1px 1px 1px);clip: rect(1px, 1px, 1px, 1px);height: 1px;margin: -1px;overflow: hidden;padding: 0;position: absolute;width: 1px;}#sk-container-id-6 div.sk-estimator {font-family: monospace;background-color: #f0f8ff;border: 1px dotted black;border-radius: 0.25em;box-sizing: border-box;margin-bottom: 0.5em;}#sk-container-id-6 div.sk-estimator:hover {background-color: #d4ebff;}#sk-container-id-6 div.sk-parallel-item::after {content: \"\";width: 100%;border-bottom: 1px solid gray;flex-grow: 1;}#sk-container-id-6 div.sk-label:hover label.sk-toggleable__label {background-color: #d4ebff;}#sk-container-id-6 div.sk-serial::before {content: \"\";position: absolute;border-left: 1px solid gray;box-sizing: border-box;top: 0;bottom: 0;left: 50%;z-index: 0;}#sk-container-id-6 div.sk-serial {display: flex;flex-direction: column;align-items: center;background-color: white;padding-right: 0.2em;padding-left: 0.2em;position: relative;}#sk-container-id-6 div.sk-item {position: relative;z-index: 1;}#sk-container-id-6 div.sk-parallel {display: flex;align-items: stretch;justify-content: center;background-color: white;position: relative;}#sk-container-id-6 div.sk-item::before, #sk-container-id-6 div.sk-parallel-item::before {content: \"\";position: absolute;border-left: 1px solid gray;box-sizing: border-box;top: 0;bottom: 0;left: 50%;z-index: -1;}#sk-container-id-6 div.sk-parallel-item {display: flex;flex-direction: column;z-index: 1;position: relative;background-color: white;}#sk-container-id-6 div.sk-parallel-item:first-child::after {align-self: flex-end;width: 50%;}#sk-container-id-6 div.sk-parallel-item:last-child::after {align-self: flex-start;width: 50%;}#sk-container-id-6 div.sk-parallel-item:only-child::after {width: 0;}#sk-container-id-6 div.sk-dashed-wrapped {border: 1px dashed gray;margin: 0 0.4em 0.5em 0.4em;box-sizing: border-box;padding-bottom: 0.4em;background-color: white;}#sk-container-id-6 div.sk-label label {font-family: monospace;font-weight: bold;display: inline-block;line-height: 1.2em;}#sk-container-id-6 div.sk-label-container {text-align: center;}#sk-container-id-6 div.sk-container {/* jupyter's `normalize.less` sets `[hidden] { display: none; }` but bootstrap.min.css set `[hidden] { display: none !important; }` so we also need the `!important` here to be able to override the default hidden behavior on the sphinx rendered scikit-learn.org. See: https://github.com/scikit-learn/scikit-learn/issues/21755 */display: inline-block !important;position: relative;}#sk-container-id-6 div.sk-text-repr-fallback {display: none;}</style><div id=\"sk-container-id-6\" class=\"sk-top-container\"><div class=\"sk-text-repr-fallback\"><pre>RandomForestRegressor()</pre><b>In a Jupyter environment, please rerun this cell to show the HTML representation or trust the notebook. <br />On GitHub, the HTML representation is unable to render, please try loading this page with nbviewer.org.</b></div><div class=\"sk-container\" hidden><div class=\"sk-item\"><div class=\"sk-estimator sk-toggleable\"><input class=\"sk-toggleable__control sk-hidden--visually\" id=\"sk-estimator-id-8\" type=\"checkbox\" checked><label for=\"sk-estimator-id-8\" class=\"sk-toggleable__label sk-toggleable__label-arrow\">RandomForestRegressor</label><div class=\"sk-toggleable__content\"><pre>RandomForestRegressor()</pre></div></div></div></div></div>"
     },
     "execution_count": 115,
     "metadata": {},
     "output_type": "execute_result"
    }
   ],
   "source": [
    "model.fit(X_train, y_train)"
   ],
   "metadata": {
    "collapsed": false,
    "ExecuteTime": {
     "end_time": "2023-06-17T10:44:38.739005679Z",
     "start_time": "2023-06-17T10:44:16.296113354Z"
    }
   }
  },
  {
   "cell_type": "code",
   "execution_count": 116,
   "outputs": [
    {
     "name": "stdout",
     "output_type": "stream",
     "text": [
      "MSE: 328391926499764.44\n",
      "R2: 0.10942211510291766\n",
      "MAE: 1255868.7341723992\n"
     ]
    }
   ],
   "source": [
    "from sklearn.metrics import mean_squared_error, r2_score, mean_absolute_error\n",
    "y_pred = model.predict(X_test)\n",
    "print(f'MSE: {mean_squared_error(y_test, y_pred)}')\n",
    "print(f'R2: {r2_score(y_test, y_pred)}')\n",
    "print(f'MAE: {mean_absolute_error(y_test, y_pred)}')"
   ],
   "metadata": {
    "collapsed": false,
    "ExecuteTime": {
     "end_time": "2023-06-17T10:44:41.571304065Z",
     "start_time": "2023-06-17T10:44:41.515300924Z"
    }
   }
  },
  {
   "cell_type": "markdown",
   "source": [
    "### pIC50"
   ],
   "metadata": {
    "collapsed": false
   }
  },
  {
   "cell_type": "code",
   "execution_count": 117,
   "outputs": [],
   "source": [
    "X_train, y_train = PropertyFeaturizer(y_column='pIC50')(df_train)\n",
    "X_test, y_test = PropertyFeaturizer(y_column='pIC50')(df_test)"
   ],
   "metadata": {
    "collapsed": false,
    "ExecuteTime": {
     "end_time": "2023-06-17T10:45:42.221978770Z",
     "start_time": "2023-06-17T10:44:57.505801087Z"
    }
   }
  },
  {
   "cell_type": "code",
   "execution_count": 118,
   "outputs": [
    {
     "data": {
      "text/plain": "RandomForestRegressor()",
      "text/html": "<style>#sk-container-id-7 {color: black;background-color: white;}#sk-container-id-7 pre{padding: 0;}#sk-container-id-7 div.sk-toggleable {background-color: white;}#sk-container-id-7 label.sk-toggleable__label {cursor: pointer;display: block;width: 100%;margin-bottom: 0;padding: 0.3em;box-sizing: border-box;text-align: center;}#sk-container-id-7 label.sk-toggleable__label-arrow:before {content: \"▸\";float: left;margin-right: 0.25em;color: #696969;}#sk-container-id-7 label.sk-toggleable__label-arrow:hover:before {color: black;}#sk-container-id-7 div.sk-estimator:hover label.sk-toggleable__label-arrow:before {color: black;}#sk-container-id-7 div.sk-toggleable__content {max-height: 0;max-width: 0;overflow: hidden;text-align: left;background-color: #f0f8ff;}#sk-container-id-7 div.sk-toggleable__content pre {margin: 0.2em;color: black;border-radius: 0.25em;background-color: #f0f8ff;}#sk-container-id-7 input.sk-toggleable__control:checked~div.sk-toggleable__content {max-height: 200px;max-width: 100%;overflow: auto;}#sk-container-id-7 input.sk-toggleable__control:checked~label.sk-toggleable__label-arrow:before {content: \"▾\";}#sk-container-id-7 div.sk-estimator input.sk-toggleable__control:checked~label.sk-toggleable__label {background-color: #d4ebff;}#sk-container-id-7 div.sk-label input.sk-toggleable__control:checked~label.sk-toggleable__label {background-color: #d4ebff;}#sk-container-id-7 input.sk-hidden--visually {border: 0;clip: rect(1px 1px 1px 1px);clip: rect(1px, 1px, 1px, 1px);height: 1px;margin: -1px;overflow: hidden;padding: 0;position: absolute;width: 1px;}#sk-container-id-7 div.sk-estimator {font-family: monospace;background-color: #f0f8ff;border: 1px dotted black;border-radius: 0.25em;box-sizing: border-box;margin-bottom: 0.5em;}#sk-container-id-7 div.sk-estimator:hover {background-color: #d4ebff;}#sk-container-id-7 div.sk-parallel-item::after {content: \"\";width: 100%;border-bottom: 1px solid gray;flex-grow: 1;}#sk-container-id-7 div.sk-label:hover label.sk-toggleable__label {background-color: #d4ebff;}#sk-container-id-7 div.sk-serial::before {content: \"\";position: absolute;border-left: 1px solid gray;box-sizing: border-box;top: 0;bottom: 0;left: 50%;z-index: 0;}#sk-container-id-7 div.sk-serial {display: flex;flex-direction: column;align-items: center;background-color: white;padding-right: 0.2em;padding-left: 0.2em;position: relative;}#sk-container-id-7 div.sk-item {position: relative;z-index: 1;}#sk-container-id-7 div.sk-parallel {display: flex;align-items: stretch;justify-content: center;background-color: white;position: relative;}#sk-container-id-7 div.sk-item::before, #sk-container-id-7 div.sk-parallel-item::before {content: \"\";position: absolute;border-left: 1px solid gray;box-sizing: border-box;top: 0;bottom: 0;left: 50%;z-index: -1;}#sk-container-id-7 div.sk-parallel-item {display: flex;flex-direction: column;z-index: 1;position: relative;background-color: white;}#sk-container-id-7 div.sk-parallel-item:first-child::after {align-self: flex-end;width: 50%;}#sk-container-id-7 div.sk-parallel-item:last-child::after {align-self: flex-start;width: 50%;}#sk-container-id-7 div.sk-parallel-item:only-child::after {width: 0;}#sk-container-id-7 div.sk-dashed-wrapped {border: 1px dashed gray;margin: 0 0.4em 0.5em 0.4em;box-sizing: border-box;padding-bottom: 0.4em;background-color: white;}#sk-container-id-7 div.sk-label label {font-family: monospace;font-weight: bold;display: inline-block;line-height: 1.2em;}#sk-container-id-7 div.sk-label-container {text-align: center;}#sk-container-id-7 div.sk-container {/* jupyter's `normalize.less` sets `[hidden] { display: none; }` but bootstrap.min.css set `[hidden] { display: none !important; }` so we also need the `!important` here to be able to override the default hidden behavior on the sphinx rendered scikit-learn.org. See: https://github.com/scikit-learn/scikit-learn/issues/21755 */display: inline-block !important;position: relative;}#sk-container-id-7 div.sk-text-repr-fallback {display: none;}</style><div id=\"sk-container-id-7\" class=\"sk-top-container\"><div class=\"sk-text-repr-fallback\"><pre>RandomForestRegressor()</pre><b>In a Jupyter environment, please rerun this cell to show the HTML representation or trust the notebook. <br />On GitHub, the HTML representation is unable to render, please try loading this page with nbviewer.org.</b></div><div class=\"sk-container\" hidden><div class=\"sk-item\"><div class=\"sk-estimator sk-toggleable\"><input class=\"sk-toggleable__control sk-hidden--visually\" id=\"sk-estimator-id-9\" type=\"checkbox\" checked><label for=\"sk-estimator-id-9\" class=\"sk-toggleable__label sk-toggleable__label-arrow\">RandomForestRegressor</label><div class=\"sk-toggleable__content\"><pre>RandomForestRegressor()</pre></div></div></div></div></div>"
     },
     "execution_count": 118,
     "metadata": {},
     "output_type": "execute_result"
    }
   ],
   "source": [
    "model_base_reg = RandomForestRegressor()\n",
    "model_base_reg.fit(X_train, y_train)"
   ],
   "metadata": {
    "collapsed": false,
    "ExecuteTime": {
     "end_time": "2023-06-17T10:45:55.873941685Z",
     "start_time": "2023-06-17T10:45:42.245892998Z"
    }
   }
  },
  {
   "cell_type": "code",
   "execution_count": 119,
   "outputs": [
    {
     "name": "stdout",
     "output_type": "stream",
     "text": [
      "MSE: 0.38802463805222975\n",
      "R2: 0.6064422238863447\n",
      "MAE: 0.42961573318662244\n"
     ]
    }
   ],
   "source": [
    "y_pred = model_base_reg.predict(X_test)\n",
    "print(f'MSE: {mean_squared_error(y_test, y_pred)}')\n",
    "print(f'R2: {r2_score(y_test, y_pred)}')\n",
    "print(f'MAE: {mean_absolute_error(y_test, y_pred)}')"
   ],
   "metadata": {
    "collapsed": false,
    "ExecuteTime": {
     "end_time": "2023-06-17T10:45:55.874484618Z",
     "start_time": "2023-06-17T10:45:55.842043881Z"
    }
   }
  },
  {
   "cell_type": "code",
   "execution_count": 120,
   "outputs": [],
   "source": [
    "# from sklearn.model_selection import GridSearchCV\n",
    "# param_grid = {\n",
    "#     'n_estimators': [x for x in range(50, 500, 25)],\n",
    "#     'max_depth': [3, 5, 7],\n",
    "#     'min_samples_split': [2, 5, 10],\n",
    "#     'min_samples_leaf': [1, 2, 4],\n",
    "#     'max_features': ['sqrt', 'log2'],\n",
    "#     'random_state': [42]\n",
    "# }"
   ],
   "metadata": {
    "collapsed": false,
    "ExecuteTime": {
     "end_time": "2023-06-17T10:46:16.612155059Z",
     "start_time": "2023-06-17T10:46:16.575686405Z"
    }
   }
  },
  {
   "cell_type": "code",
   "execution_count": 121,
   "outputs": [],
   "source": [
    "# grid_search = GridSearchCV(estimator=model, param_grid=param_grid, cv=5, n_jobs=-1, verbose=2, scoring='neg_mean_squared_error')\n",
    "# grid_search.fit(X_train, y_train)"
   ],
   "metadata": {
    "collapsed": false,
    "ExecuteTime": {
     "end_time": "2023-06-17T10:46:17.027273292Z",
     "start_time": "2023-06-17T10:46:17.008767534Z"
    }
   }
  },
  {
   "cell_type": "code",
   "execution_count": 122,
   "outputs": [],
   "source": [
    "# y_pred = grid_search.predict(X_test)\n",
    "# print(f'MSE: {mean_squared_error(y_test, y_pred)}')\n",
    "# print(f'R2: {r2_score(y_test, y_pred)}')\n",
    "# print(f'MAE: {mean_absolute_error(y_test, y_pred)}')"
   ],
   "metadata": {
    "collapsed": false,
    "ExecuteTime": {
     "end_time": "2023-06-17T10:46:22.193174998Z",
     "start_time": "2023-06-17T10:46:22.173328111Z"
    }
   }
  },
  {
   "cell_type": "markdown",
   "id": "79b84d43",
   "metadata": {},
   "source": [
    "**(optional) Excercise 1.1.** *(advanced data splitting methods)* - skip\n",
    "\n",
    "You might be surprised how good results you can achieve using a random data split. The model performance measured this way can be misleading as ChEMBL contains many similar compounds, series of compounds containing the same scaffold, or even duplicated records. Thus, a better form of evaluation would be to employ a more advanced splitting method, e.g. **scaffold-based split** in which all compounds containing the same scaffold are put in the same set. Another option is to use a **time-based split** because most records in ChEBML should be tagged with the date of their publication. \n",
    "\n",
    "Don't be discouraged by the lower results you obtain with these splits. By evaluating your model this way, you get more realistic scores that better reflect the future use cases of your model. The fact that lower evaluation scores may correspond to a better model is known as the **Kubinyi paradox**.\n",
    "\n",
    "You can now implement a more advanced data split and compare the prediction results on the testing set."
   ]
  },
  {
   "cell_type": "code",
   "execution_count": 123,
   "id": "75da0975",
   "metadata": {
    "ExecuteTime": {
     "end_time": "2023-06-17T10:46:24.129652678Z",
     "start_time": "2023-06-17T10:46:24.123111358Z"
    }
   },
   "outputs": [],
   "source": [
    "# TODO repeat training with scaffold/time/clustering-based split"
   ]
  },
  {
   "cell_type": "markdown",
   "id": "1b4adf86",
   "metadata": {},
   "source": [
    "**(optional) Excercise 1.2.** *(label transformations)*\n",
    "\n",
    "As mentioned above, using the logarithmic values can improve the prediction results by eliminating extreme values. Another option is to transform continuous measurements into binary classes, where active compounds are those with IC$_{50}$/Ki values below a certain treshold, and the rest is assumed inactive. This approach can also help dealing with inaccurate noisy measurements.\n",
    "\n",
    "Try to convert labels into pIC$_{50}$/pKi values or change the regression task to a binary classification problem."
   ]
  },
  {
   "cell_type": "code",
   "execution_count": 131,
   "outputs": [
    {
     "data": {
      "text/plain": "<Axes: >"
     },
     "execution_count": 131,
     "metadata": {},
     "output_type": "execute_result"
    },
    {
     "data": {
      "text/plain": "<Figure size 640x480 with 1 Axes>",
      "image/png": "[encoded data removed]"
     },
     "metadata": {},
     "output_type": "display_data"
    }
   ],
   "source": [
    "herg['pIC50'].hist(bins=100)"
   ],
   "metadata": {
    "collapsed": false,
    "ExecuteTime": {
     "end_time": "2023-06-17T10:48:07.041670014Z",
     "start_time": "2023-06-17T10:48:06.849977156Z"
    }
   }
  },
  {
   "cell_type": "code",
   "execution_count": 134,
   "outputs": [
    {
     "data": {
      "text/plain": "6.036212172654444"
     },
     "execution_count": 134,
     "metadata": {},
     "output_type": "execute_result"
    }
   ],
   "source": [
    "np.percentile(herg['pIC50'], 80)"
   ],
   "metadata": {
    "collapsed": false,
    "ExecuteTime": {
     "end_time": "2023-06-17T10:48:51.290688885Z",
     "start_time": "2023-06-17T10:48:51.259486756Z"
    }
   }
  },
  {
   "cell_type": "code",
   "execution_count": 135,
   "id": "c6c50659",
   "metadata": {
    "ExecuteTime": {
     "end_time": "2023-06-17T10:49:37.920549881Z",
     "start_time": "2023-06-17T10:49:37.868895318Z"
    }
   },
   "outputs": [],
   "source": [
    "activity_threshold = 6\n",
    "herg['class'] = herg['pIC50'].apply(lambda x: 0 if x < activity_threshold else 1)"
   ]
  },
  {
   "cell_type": "code",
   "execution_count": 136,
   "outputs": [],
   "source": [
    "df_train, df_test = train_test_split(herg, random_state=42, train_size=0.8)"
   ],
   "metadata": {
    "collapsed": false,
    "ExecuteTime": {
     "end_time": "2023-06-17T10:49:50.787637261Z",
     "start_time": "2023-06-17T10:49:50.771425433Z"
    }
   }
  },
  {
   "cell_type": "code",
   "execution_count": 137,
   "outputs": [],
   "source": [
    "X_train, y_train = PropertyFeaturizer(y_column='class')(df_train)\n",
    "X_test, y_test = PropertyFeaturizer(y_column='class')(df_test)"
   ],
   "metadata": {
    "collapsed": false,
    "ExecuteTime": {
     "end_time": "2023-06-17T10:50:35.598631204Z",
     "start_time": "2023-06-17T10:49:53.784545260Z"
    }
   }
  },
  {
   "cell_type": "code",
   "execution_count": 138,
   "outputs": [],
   "source": [
    "from sklearn.ensemble import GradientBoostingClassifier, RandomForestClassifier\n",
    "from sklearn.metrics import accuracy_score, f1_score, roc_auc_score\n",
    "model = RandomForestClassifier()"
   ],
   "metadata": {
    "collapsed": false,
    "ExecuteTime": {
     "end_time": "2023-06-17T10:50:46.754049766Z",
     "start_time": "2023-06-17T10:50:46.734851617Z"
    }
   }
  },
  {
   "cell_type": "code",
   "execution_count": 139,
   "outputs": [
    {
     "data": {
      "text/plain": "RandomForestClassifier()",
      "text/html": "<style>#sk-container-id-8 {color: black;background-color: white;}#sk-container-id-8 pre{padding: 0;}#sk-container-id-8 div.sk-toggleable {background-color: white;}#sk-container-id-8 label.sk-toggleable__label {cursor: pointer;display: block;width: 100%;margin-bottom: 0;padding: 0.3em;box-sizing: border-box;text-align: center;}#sk-container-id-8 label.sk-toggleable__label-arrow:before {content: \"▸\";float: left;margin-right: 0.25em;color: #696969;}#sk-container-id-8 label.sk-toggleable__label-arrow:hover:before {color: black;}#sk-container-id-8 div.sk-estimator:hover label.sk-toggleable__label-arrow:before {color: black;}#sk-container-id-8 div.sk-toggleable__content {max-height: 0;max-width: 0;overflow: hidden;text-align: left;background-color: #f0f8ff;}#sk-container-id-8 div.sk-toggleable__content pre {margin: 0.2em;color: black;border-radius: 0.25em;background-color: #f0f8ff;}#sk-container-id-8 input.sk-toggleable__control:checked~div.sk-toggleable__content {max-height: 200px;max-width: 100%;overflow: auto;}#sk-container-id-8 input.sk-toggleable__control:checked~label.sk-toggleable__label-arrow:before {content: \"▾\";}#sk-container-id-8 div.sk-estimator input.sk-toggleable__control:checked~label.sk-toggleable__label {background-color: #d4ebff;}#sk-container-id-8 div.sk-label input.sk-toggleable__control:checked~label.sk-toggleable__label {background-color: #d4ebff;}#sk-container-id-8 input.sk-hidden--visually {border: 0;clip: rect(1px 1px 1px 1px);clip: rect(1px, 1px, 1px, 1px);height: 1px;margin: -1px;overflow: hidden;padding: 0;position: absolute;width: 1px;}#sk-container-id-8 div.sk-estimator {font-family: monospace;background-color: #f0f8ff;border: 1px dotted black;border-radius: 0.25em;box-sizing: border-box;margin-bottom: 0.5em;}#sk-container-id-8 div.sk-estimator:hover {background-color: #d4ebff;}#sk-container-id-8 div.sk-parallel-item::after {content: \"\";width: 100%;border-bottom: 1px solid gray;flex-grow: 1;}#sk-container-id-8 div.sk-label:hover label.sk-toggleable__label {background-color: #d4ebff;}#sk-container-id-8 div.sk-serial::before {content: \"\";position: absolute;border-left: 1px solid gray;box-sizing: border-box;top: 0;bottom: 0;left: 50%;z-index: 0;}#sk-container-id-8 div.sk-serial {display: flex;flex-direction: column;align-items: center;background-color: white;padding-right: 0.2em;padding-left: 0.2em;position: relative;}#sk-container-id-8 div.sk-item {position: relative;z-index: 1;}#sk-container-id-8 div.sk-parallel {display: flex;align-items: stretch;justify-content: center;background-color: white;position: relative;}#sk-container-id-8 div.sk-item::before, #sk-container-id-8 div.sk-parallel-item::before {content: \"\";position: absolute;border-left: 1px solid gray;box-sizing: border-box;top: 0;bottom: 0;left: 50%;z-index: -1;}#sk-container-id-8 div.sk-parallel-item {display: flex;flex-direction: column;z-index: 1;position: relative;background-color: white;}#sk-container-id-8 div.sk-parallel-item:first-child::after {align-self: flex-end;width: 50%;}#sk-container-id-8 div.sk-parallel-item:last-child::after {align-self: flex-start;width: 50%;}#sk-container-id-8 div.sk-parallel-item:only-child::after {width: 0;}#sk-container-id-8 div.sk-dashed-wrapped {border: 1px dashed gray;margin: 0 0.4em 0.5em 0.4em;box-sizing: border-box;padding-bottom: 0.4em;background-color: white;}#sk-container-id-8 div.sk-label label {font-family: monospace;font-weight: bold;display: inline-block;line-height: 1.2em;}#sk-container-id-8 div.sk-label-container {text-align: center;}#sk-container-id-8 div.sk-container {/* jupyter's `normalize.less` sets `[hidden] { display: none; }` but bootstrap.min.css set `[hidden] { display: none !important; }` so we also need the `!important` here to be able to override the default hidden behavior on the sphinx rendered scikit-learn.org. See: https://github.com/scikit-learn/scikit-learn/issues/21755 */display: inline-block !important;position: relative;}#sk-container-id-8 div.sk-text-repr-fallback {display: none;}</style><div id=\"sk-container-id-8\" class=\"sk-top-container\"><div class=\"sk-text-repr-fallback\"><pre>RandomForestClassifier()</pre><b>In a Jupyter environment, please rerun this cell to show the HTML representation or trust the notebook. <br />On GitHub, the HTML representation is unable to render, please try loading this page with nbviewer.org.</b></div><div class=\"sk-container\" hidden><div class=\"sk-item\"><div class=\"sk-estimator sk-toggleable\"><input class=\"sk-toggleable__control sk-hidden--visually\" id=\"sk-estimator-id-10\" type=\"checkbox\" checked><label for=\"sk-estimator-id-10\" class=\"sk-toggleable__label sk-toggleable__label-arrow\">RandomForestClassifier</label><div class=\"sk-toggleable__content\"><pre>RandomForestClassifier()</pre></div></div></div></div></div>"
     },
     "execution_count": 139,
     "metadata": {},
     "output_type": "execute_result"
    }
   ],
   "source": [
    "model.fit(X_train, y_train)"
   ],
   "metadata": {
    "collapsed": false,
    "ExecuteTime": {
     "end_time": "2023-06-17T10:50:58.293876324Z",
     "start_time": "2023-06-17T10:50:57.082813876Z"
    }
   }
  },
  {
   "cell_type": "code",
   "execution_count": 140,
   "outputs": [
    {
     "name": "stdout",
     "output_type": "stream",
     "text": [
      "Accuracy: 0.8694049499736703\n",
      "F1: 0.6352941176470588\n",
      "ROC AUC: 0.8862775744850693\n"
     ]
    }
   ],
   "source": [
    "y_pred = model.predict_proba(X_test)[:, 1]\n",
    "print(f'Accuracy: {accuracy_score(y_test, y_pred > 0.5)}')\n",
    "print(f'F1: {f1_score(y_test, y_pred > 0.5)}')\n",
    "print(f'ROC AUC: {roc_auc_score(y_test, y_pred)}')"
   ],
   "metadata": {
    "collapsed": false,
    "ExecuteTime": {
     "end_time": "2023-06-17T10:51:03.113169008Z",
     "start_time": "2023-06-17T10:51:03.027114223Z"
    }
   }
  },
  {
   "cell_type": "markdown",
   "id": "f52bdb65",
   "metadata": {},
   "source": [
    "**(optional) Excercise 1.3.** *(exploratory data analysis, data filtering)*\n",
    "\n",
    "Can you find any discrepancies in the data? For example, do you find any outliers or duplicated SMILES strings? Can you solve these problems?"
   ]
  },
  {
   "cell_type": "code",
   "execution_count": 142,
   "id": "e04424b6",
   "metadata": {
    "ExecuteTime": {
     "end_time": "2023-06-17T10:51:28.549073937Z",
     "start_time": "2023-06-17T10:51:28.483605300Z"
    }
   },
   "outputs": [
    {
     "data": {
      "text/plain": "      Molecule ChEMBL ID Molecule Name Molecule Max Phase Molecular Weight  \\\n16         CHEMBL1271816           NaN               None           460.07   \n17         CHEMBL1271756           NaN               None           486.88   \n35          CHEMBL240567           NaN               None           529.58   \n37          CHEMBL239099           NaN               None           504.59   \n78          CHEMBL536480           NaN               None           474.45   \n...                  ...           ...                ...              ...   \n14860      CHEMBL5201061           NaN               None           584.88   \n14962      CHEMBL4757503           NaN               None           494.08   \n15010      CHEMBL5197909           NaN               None           612.94   \n15097      CHEMBL4879307           NaN               None           400.46   \n15157      CHEMBL4743534           NaN               None           450.02   \n\n      #RO5 Violations AlogP Compound Key  \\\n16                  0  3.64          15e   \n17                  0  4.16          15b   \n35                  0  4.24          38h   \n37                  0  3.44          37e   \n78                  0  2.90        E4031   \n...               ...   ...          ...   \n14860               0  2.20           31   \n14962               1  5.99           6i   \n15010               1  2.97           29   \n15097               0  3.27           7c   \n15157               1  5.59           18   \n\n                                                  Smiles Standard Type  \\\n16     Cc1nc(C(=O)NCCCN2CCN(c3cccc(C)c3C)CC2)cc(C(C)(...          IC50   \n17     Cc1nc(C(=O)NCCCN2CCN(c3cccc(Cl)c3Cl)CC2)cc(C(C...          IC50   \n35     O=C(c1cc(F)cc(F)c1)N1CCN(c2ccc(OC3CCN(C4CCCC4)...          IC50   \n37     N#Cc1ccc(C(=O)N2CCN(c3ccc(OC4CCN(C5CCC5)CC4)cc...          IC50   \n78     Cc1cccc(CCN2CCC(C(=O)c3ccc(NS(C)(=O)=O)cc3)CC2...          IC50   \n...                                                  ...           ...   \n14860  COc1cc(OC)c(F)c(COc2cnc(Nc3cnn(CCN4CCNCC4)c3)n...          IC50   \n14962  CN1CCCC1CCOc1ccc(/C(=C(/CCCO)c2ccccc2)c2ccc(O)...          IC50   \n15010  COc1cc(OC)c(F)c(COc2cnc(Nc3cnn(CCNC4CCN(C)CC4)...          IC50   \n15097  CN(C)c1ccc(/N=N/c2ccccn2)c(O)c1.O=S(=O)(O)c1cc...          IC50   \n15157  Cl.OCCC/C(=C(\\c1ccc(O)cc1)c1ccc(C2CCNCC2)cc1)c...          IC50   \n\n      Standard Relation  ...  Document ChEMBL ID Source ID  \\\n16                  '='  ...       CHEMBL1268978         1   \n17                  '='  ...       CHEMBL1268978         1   \n35                  '='  ...       CHEMBL1138361         1   \n37                  '='  ...       CHEMBL1138361         1   \n78                  '='  ...       CHEMBL1137783         1   \n...                 ...  ...                 ...       ...   \n14860               '='  ...       CHEMBL5120772         1   \n14962               '='  ...       CHEMBL4680094         1   \n15010               '='  ...       CHEMBL5120772         1   \n15097               '='  ...       CHEMBL4823327         1   \n15157               '='  ...       CHEMBL4706533         1   \n\n          Source Description      Document Journal Document Year  \\\n16     Scientific Literature  Bioorg Med Chem Lett        2010.0   \n17     Scientific Literature  Bioorg Med Chem Lett        2010.0   \n35     Scientific Literature            J Med Chem        2007.0   \n37     Scientific Literature            J Med Chem        2007.0   \n78     Scientific Literature            J Med Chem        2009.0   \n...                      ...                   ...           ...   \n14860  Scientific Literature       Bioorg Med Chem        2022.0   \n14962  Scientific Literature            J Med Chem        2016.0   \n15010  Scientific Literature       Bioorg Med Chem        2022.0   \n15097  Scientific Literature     ACS Med Chem Lett        2021.0   \n15157  Scientific Literature        Eur J Med Chem        2020.0   \n\n      Cell ChEMBL ID      Properties Action Type     pIC50 class  \n16              None             NaN         NaN  5.229148     0  \n17              None             NaN         NaN  5.267606     0  \n35     CHEMBL3307512             NaN         NaN  5.100000     0  \n37     CHEMBL3307512             NaN         NaN  5.030000     0  \n78              None             NaN         NaN  7.742321     1  \n...              ...             ...         ...       ...   ...  \n14860           None             NaN     BLOCKER  4.050610     0  \n14962           None   TIME = 4.0 hr   INHIBITOR  5.267606     0  \n15010           None             NaN     BLOCKER  4.080922     0  \n15097           None  TIME = 48.0 hr   INHIBITOR  6.677781     1  \n15157           None             NaN   INHIBITOR  4.896196     0  \n\n[324 rows x 48 columns]",
      "text/html": "<div>\n<style scoped>\n    .dataframe tbody tr th:only-of-type {\n        vertical-align: middle;\n    }\n\n    .dataframe tbody tr th {\n        vertical-align: top;\n    }\n\n    .dataframe thead th {\n        text-align: right;\n    }\n</style>\n<table border=\"1\" class=\"dataframe\">\n  <thead>\n    <tr style=\"text-align: right;\">\n      <th></th>\n      <th>Molecule ChEMBL ID</th>\n      <th>Molecule Name</th>\n      <th>Molecule Max Phase</th>\n      <th>Molecular Weight</th>\n      <th>#RO5 Violations</th>\n      <th>AlogP</th>\n      <th>Compound Key</th>\n      <th>Smiles</th>\n      <th>Standard Type</th>\n      <th>Standard Relation</th>\n      <th>...</th>\n      <th>Document ChEMBL ID</th>\n      <th>Source ID</th>\n      <th>Source Description</th>\n      <th>Document Journal</th>\n      <th>Document Year</th>\n      <th>Cell ChEMBL ID</th>\n      <th>Properties</th>\n      <th>Action Type</th>\n      <th>pIC50</th>\n      <th>class</th>\n    </tr>\n  </thead>\n  <tbody>\n    <tr>\n      <th>16</th>\n      <td>CHEMBL1271816</td>\n      <td>NaN</td>\n      <td>None</td>\n      <td>460.07</td>\n      <td>0</td>\n      <td>3.64</td>\n      <td>15e</td>\n      <td>Cc1nc(C(=O)NCCCN2CCN(c3cccc(C)c3C)CC2)cc(C(C)(...</td>\n      <td>IC50</td>\n      <td>'='</td>\n      <td>...</td>\n      <td>CHEMBL1268978</td>\n      <td>1</td>\n      <td>Scientific Literature</td>\n      <td>Bioorg Med Chem Lett</td>\n      <td>2010.0</td>\n      <td>None</td>\n      <td>NaN</td>\n      <td>NaN</td>\n      <td>5.229148</td>\n      <td>0</td>\n    </tr>\n    <tr>\n      <th>17</th>\n      <td>CHEMBL1271756</td>\n      <td>NaN</td>\n      <td>None</td>\n      <td>486.88</td>\n      <td>0</td>\n      <td>4.16</td>\n      <td>15b</td>\n      <td>Cc1nc(C(=O)NCCCN2CCN(c3cccc(Cl)c3Cl)CC2)cc(C(C...</td>\n      <td>IC50</td>\n      <td>'='</td>\n      <td>...</td>\n      <td>CHEMBL1268978</td>\n      <td>1</td>\n      <td>Scientific Literature</td>\n      <td>Bioorg Med Chem Lett</td>\n      <td>2010.0</td>\n      <td>None</td>\n      <td>NaN</td>\n      <td>NaN</td>\n      <td>5.267606</td>\n      <td>0</td>\n    </tr>\n    <tr>\n      <th>35</th>\n      <td>CHEMBL240567</td>\n      <td>NaN</td>\n      <td>None</td>\n      <td>529.58</td>\n      <td>0</td>\n      <td>4.24</td>\n      <td>38h</td>\n      <td>O=C(c1cc(F)cc(F)c1)N1CCN(c2ccc(OC3CCN(C4CCCC4)...</td>\n      <td>IC50</td>\n      <td>'='</td>\n      <td>...</td>\n      <td>CHEMBL1138361</td>\n      <td>1</td>\n      <td>Scientific Literature</td>\n      <td>J Med Chem</td>\n      <td>2007.0</td>\n      <td>CHEMBL3307512</td>\n      <td>NaN</td>\n      <td>NaN</td>\n      <td>5.100000</td>\n      <td>0</td>\n    </tr>\n    <tr>\n      <th>37</th>\n      <td>CHEMBL239099</td>\n      <td>NaN</td>\n      <td>None</td>\n      <td>504.59</td>\n      <td>0</td>\n      <td>3.44</td>\n      <td>37e</td>\n      <td>N#Cc1ccc(C(=O)N2CCN(c3ccc(OC4CCN(C5CCC5)CC4)cc...</td>\n      <td>IC50</td>\n      <td>'='</td>\n      <td>...</td>\n      <td>CHEMBL1138361</td>\n      <td>1</td>\n      <td>Scientific Literature</td>\n      <td>J Med Chem</td>\n      <td>2007.0</td>\n      <td>CHEMBL3307512</td>\n      <td>NaN</td>\n      <td>NaN</td>\n      <td>5.030000</td>\n      <td>0</td>\n    </tr>\n    <tr>\n      <th>78</th>\n      <td>CHEMBL536480</td>\n      <td>NaN</td>\n      <td>None</td>\n      <td>474.45</td>\n      <td>0</td>\n      <td>2.90</td>\n      <td>E4031</td>\n      <td>Cc1cccc(CCN2CCC(C(=O)c3ccc(NS(C)(=O)=O)cc3)CC2...</td>\n      <td>IC50</td>\n      <td>'='</td>\n      <td>...</td>\n      <td>CHEMBL1137783</td>\n      <td>1</td>\n      <td>Scientific Literature</td>\n      <td>J Med Chem</td>\n      <td>2009.0</td>\n      <td>None</td>\n      <td>NaN</td>\n      <td>NaN</td>\n      <td>7.742321</td>\n      <td>1</td>\n    </tr>\n    <tr>\n      <th>...</th>\n      <td>...</td>\n      <td>...</td>\n      <td>...</td>\n      <td>...</td>\n      <td>...</td>\n      <td>...</td>\n      <td>...</td>\n      <td>...</td>\n      <td>...</td>\n      <td>...</td>\n      <td>...</td>\n      <td>...</td>\n      <td>...</td>\n      <td>...</td>\n      <td>...</td>\n      <td>...</td>\n      <td>...</td>\n      <td>...</td>\n      <td>...</td>\n      <td>...</td>\n      <td>...</td>\n    </tr>\n    <tr>\n      <th>14860</th>\n      <td>CHEMBL5201061</td>\n      <td>NaN</td>\n      <td>None</td>\n      <td>584.88</td>\n      <td>0</td>\n      <td>2.20</td>\n      <td>31</td>\n      <td>COc1cc(OC)c(F)c(COc2cnc(Nc3cnn(CCN4CCNCC4)c3)n...</td>\n      <td>IC50</td>\n      <td>'='</td>\n      <td>...</td>\n      <td>CHEMBL5120772</td>\n      <td>1</td>\n      <td>Scientific Literature</td>\n      <td>Bioorg Med Chem</td>\n      <td>2022.0</td>\n      <td>None</td>\n      <td>NaN</td>\n      <td>BLOCKER</td>\n      <td>4.050610</td>\n      <td>0</td>\n    </tr>\n    <tr>\n      <th>14962</th>\n      <td>CHEMBL4757503</td>\n      <td>NaN</td>\n      <td>None</td>\n      <td>494.08</td>\n      <td>1</td>\n      <td>5.99</td>\n      <td>6i</td>\n      <td>CN1CCCC1CCOc1ccc(/C(=C(/CCCO)c2ccccc2)c2ccc(O)...</td>\n      <td>IC50</td>\n      <td>'='</td>\n      <td>...</td>\n      <td>CHEMBL4680094</td>\n      <td>1</td>\n      <td>Scientific Literature</td>\n      <td>J Med Chem</td>\n      <td>2016.0</td>\n      <td>None</td>\n      <td>TIME = 4.0 hr</td>\n      <td>INHIBITOR</td>\n      <td>5.267606</td>\n      <td>0</td>\n    </tr>\n    <tr>\n      <th>15010</th>\n      <td>CHEMBL5197909</td>\n      <td>NaN</td>\n      <td>None</td>\n      <td>612.94</td>\n      <td>1</td>\n      <td>2.97</td>\n      <td>29</td>\n      <td>COc1cc(OC)c(F)c(COc2cnc(Nc3cnn(CCNC4CCN(C)CC4)...</td>\n      <td>IC50</td>\n      <td>'='</td>\n      <td>...</td>\n      <td>CHEMBL5120772</td>\n      <td>1</td>\n      <td>Scientific Literature</td>\n      <td>Bioorg Med Chem</td>\n      <td>2022.0</td>\n      <td>None</td>\n      <td>NaN</td>\n      <td>BLOCKER</td>\n      <td>4.080922</td>\n      <td>0</td>\n    </tr>\n    <tr>\n      <th>15097</th>\n      <td>CHEMBL4879307</td>\n      <td>NaN</td>\n      <td>None</td>\n      <td>400.46</td>\n      <td>0</td>\n      <td>3.27</td>\n      <td>7c</td>\n      <td>CN(C)c1ccc(/N=N/c2ccccn2)c(O)c1.O=S(=O)(O)c1cc...</td>\n      <td>IC50</td>\n      <td>'='</td>\n      <td>...</td>\n      <td>CHEMBL4823327</td>\n      <td>1</td>\n      <td>Scientific Literature</td>\n      <td>ACS Med Chem Lett</td>\n      <td>2021.0</td>\n      <td>None</td>\n      <td>TIME = 48.0 hr</td>\n      <td>INHIBITOR</td>\n      <td>6.677781</td>\n      <td>1</td>\n    </tr>\n    <tr>\n      <th>15157</th>\n      <td>CHEMBL4743534</td>\n      <td>NaN</td>\n      <td>None</td>\n      <td>450.02</td>\n      <td>1</td>\n      <td>5.59</td>\n      <td>18</td>\n      <td>Cl.OCCC/C(=C(\\c1ccc(O)cc1)c1ccc(C2CCNCC2)cc1)c...</td>\n      <td>IC50</td>\n      <td>'='</td>\n      <td>...</td>\n      <td>CHEMBL4706533</td>\n      <td>1</td>\n      <td>Scientific Literature</td>\n      <td>Eur J Med Chem</td>\n      <td>2020.0</td>\n      <td>None</td>\n      <td>NaN</td>\n      <td>INHIBITOR</td>\n      <td>4.896196</td>\n      <td>0</td>\n    </tr>\n  </tbody>\n</table>\n<p>324 rows × 48 columns</p>\n</div>"
     },
     "execution_count": 142,
     "metadata": {},
     "output_type": "execute_result"
    }
   ],
   "source": [
    "# Hint: A dot in the SMILES string indicates multiple compounds (this is a separator)\n",
    "herg[herg.Smiles.str.contains('\\.')]\n",
    "# TODO: Perform Exploratory Data Analysis"
   ]
  },
  {
   "cell_type": "markdown",
   "id": "05485c54",
   "metadata": {},
   "source": [
    "# ZINC\n",
    "\n",
    "[ZINC](https://zinc.docking.org/) is a database of commercially available compounds. This data can be used for **virtual screening**, i.e. finding active molecules using only *in silico* (computer) methods. These compounds can be then purchased and tested *in vitro* (in cells or biomolecules) or *in vivo* (in living organisms)."
   ]
  },
  {
   "cell_type": "markdown",
   "id": "26a93a55",
   "metadata": {},
   "source": [
    "**Exercise 2.** Perform virtual screening. Use the model trained in Exercise 1 to find the most active compounds in a ZINC subset. Which compounds should be selected to be purchased or synthesized?\n",
    "\n",
    "Save the output as a CSV file containing 100 compounds (SMILES strings) and their predicted activity values."
   ]
  },
  {
   "cell_type": "code",
   "execution_count": 144,
   "id": "a87fc1e0",
   "metadata": {
    "ExecuteTime": {
     "end_time": "2023-06-17T10:58:27.308306846Z",
     "start_time": "2023-06-17T10:52:44.868194005Z"
    }
   },
   "outputs": [
    {
     "data": {
      "text/plain": "0it [00:00, ?it/s]",
      "application/vnd.jupyter.widget-view+json": {
       "version_major": 2,
       "version_minor": 0,
       "model_id": "9e9b76e63f5e43e5bea3245dc7533ef8"
      }
     },
     "metadata": {},
     "output_type": "display_data"
    },
    {
     "name": "stdout",
     "output_type": "stream",
     "text": [
      "Chunk mean: 4.146662993940015\n",
      "Chunk best: 5.064642140907265\n",
      "Chunk mean: 4.145378245164151\n",
      "Chunk best: 5.021695244837727\n",
      "Chunk mean: 4.161998424740907\n",
      "Chunk best: 5.110685433184836\n",
      "Chunk mean: 4.146230251666008\n",
      "Chunk best: 4.931610001610435\n",
      "Chunk mean: 4.148191831784017\n",
      "Chunk best: 5.779600946445455\n",
      "Chunk mean: 4.150173154375736\n",
      "Chunk best: 5.197826079788704\n",
      "Chunk mean: 4.180949421895509\n",
      "Chunk best: 5.450409586032188\n",
      "Chunk mean: 4.169646827828653\n",
      "Chunk best: 5.126871196027546\n",
      "Chunk mean: 4.163768722420084\n",
      "Chunk best: 5.1748021551252394\n",
      "Chunk mean: 4.16504606360995\n",
      "Chunk best: 5.155836771871891\n",
      "Chunk mean: 4.160130238961963\n",
      "Chunk best: 5.208279915521455\n",
      "Chunk mean: 4.168724696566367\n",
      "Chunk best: 5.398530539099749\n",
      "Chunk mean: 4.155865564534113\n",
      "Chunk best: 5.45274610613606\n",
      "Chunk mean: 4.152267266265884\n",
      "Chunk best: 5.107712731643524\n",
      "Chunk mean: 4.166824799961819\n",
      "Chunk best: 5.140030666037131\n",
      "Chunk mean: 4.172097184759206\n",
      "Chunk best: 5.281195338026461\n",
      "Chunk mean: 4.159811316151952\n",
      "Chunk best: 5.485419849674956\n",
      "Chunk mean: 4.169174601577039\n",
      "Chunk best: 4.961059959045647\n",
      "Chunk mean: 4.153808475469043\n",
      "Chunk best: 5.035397191986402\n",
      "Chunk mean: 4.170198974510339\n",
      "Chunk best: 5.420802847721681\n",
      "Chunk mean: 4.160090000534174\n",
      "Chunk best: 5.076513318444525\n",
      "Chunk mean: 4.1671752114872165\n",
      "Chunk best: 5.608366012930174\n",
      "Chunk mean: 4.16578551122466\n",
      "Chunk best: 5.392331304506242\n",
      "Chunk mean: 4.165338945057156\n",
      "Chunk best: 5.291096783673746\n",
      "Chunk mean: 4.147493082894227\n",
      "Chunk best: 5.088863036309346\n",
      "Chunk mean: 4.153363540972692\n",
      "Chunk best: 5.106168170252488\n",
      "Chunk mean: 4.166305605156935\n",
      "Chunk best: 5.347337153178477\n",
      "Chunk mean: 4.164611721477461\n",
      "Chunk best: 5.197275529330741\n",
      "Chunk mean: 4.1642240707063785\n",
      "Chunk best: 5.125473806032217\n",
      "Chunk mean: 4.13941250555709\n",
      "Chunk best: 5.250247986798509\n",
      "Chunk mean: 4.144478826088658\n",
      "Chunk best: 5.183634595120652\n",
      "Chunk mean: 4.147635952689936\n",
      "Chunk best: 5.180284635140405\n",
      "Chunk mean: 4.16770549614003\n",
      "Chunk best: 5.197275529330741\n",
      "Chunk mean: 4.162780103802294\n",
      "Chunk best: 5.1229672518500395\n",
      "Chunk mean: 4.14427423676377\n",
      "Chunk best: 5.2197684385473755\n",
      "Chunk mean: 4.150359423553388\n",
      "Chunk best: 4.917134263669397\n",
      "Chunk mean: 4.148631889508478\n",
      "Chunk best: 5.083900567244182\n",
      "Chunk mean: 4.156759424856853\n",
      "Chunk best: 5.211067000340211\n",
      "Chunk mean: 4.180218608342067\n",
      "Chunk best: 5.293174822279732\n",
      "Chunk mean: 4.159075918862817\n",
      "Chunk best: 5.035397191986402\n",
      "Chunk mean: 4.157534435022631\n",
      "Chunk best: 5.020727365396792\n",
      "Chunk mean: 4.155891028795875\n",
      "Chunk best: 6.130282299173407\n",
      "Chunk mean: 4.16810338127692\n",
      "Chunk best: 5.133689945471202\n",
      "Chunk mean: 4.150107336556674\n",
      "Chunk best: 5.807136678498505\n",
      "Chunk mean: 4.1657019217920475\n",
      "Chunk best: 5.379343854113684\n",
      "Chunk mean: 4.150233768614725\n",
      "Chunk best: 5.133923235440658\n",
      "Chunk mean: 4.165940606891201\n",
      "Chunk best: 5.030484228960967\n",
      "Chunk mean: 4.1566620539813\n",
      "Chunk best: 5.018425578889584\n",
      "Chunk mean: 4.1525432976621435\n",
      "Chunk best: 5.024981717313868\n",
      "Chunk mean: 4.1818880197686825\n",
      "Chunk best: 5.199621970394423\n",
      "Chunk mean: 4.153678499937132\n",
      "Chunk best: 5.098153413327997\n",
      "Chunk mean: 4.1439859601948505\n",
      "Chunk best: 5.034404640978557\n",
      "Chunk mean: 4.144258580799531\n",
      "Chunk best: 5.291096783673746\n",
      "Chunk mean: 4.145134208391845\n",
      "Chunk best: 5.2407280591937715\n",
      "Chunk mean: 4.16437774292357\n",
      "Chunk best: 5.020801689531184\n",
      "Chunk mean: 4.167639461354878\n",
      "Chunk best: 5.1347062848161125\n",
      "Chunk mean: 4.142377793133204\n",
      "Chunk best: 5.5362092945213215\n",
      "Chunk mean: 4.142891112893731\n",
      "Chunk best: 5.3012867975138445\n",
      "Chunk mean: 4.158840401626653\n",
      "Chunk best: 5.2585796225718004\n",
      "Chunk mean: 4.150402931315016\n",
      "Chunk best: 5.149949607860741\n",
      "Chunk mean: 4.169358541445426\n",
      "Chunk best: 5.057438092256351\n",
      "Chunk mean: 4.174176629485746\n",
      "Chunk best: 5.179882073094709\n",
      "Chunk mean: 4.165303725483557\n",
      "Chunk best: 5.361562773037662\n",
      "Chunk mean: 4.15293914505648\n",
      "Chunk best: 5.250852587796918\n",
      "Chunk mean: 4.164200124166588\n",
      "Chunk best: 5.134422659428179\n",
      "Chunk mean: 4.144588746155503\n",
      "Chunk best: 5.021955328525157\n",
      "Chunk mean: 4.159181410980472\n",
      "Chunk best: 5.055279975261906\n",
      "Chunk mean: 4.140884544664896\n",
      "Chunk best: 5.406231314415168\n",
      "Chunk mean: 4.157768896566342\n",
      "Chunk best: 5.588466766572349\n",
      "Chunk mean: 4.185284425572463\n",
      "Chunk best: 5.103554587998319\n",
      "Chunk mean: 4.151035147483578\n",
      "Chunk best: 5.181335492403161\n",
      "Chunk mean: 4.154584651579527\n",
      "Chunk best: 5.088825966639945\n",
      "Chunk mean: 4.150042518305713\n",
      "Chunk best: 5.099618238574399\n",
      "Chunk mean: 4.146577790306466\n",
      "Chunk best: 5.108340483209659\n",
      "Chunk mean: 4.169587768412777\n",
      "Chunk best: 5.078875005071965\n",
      "Chunk mean: 4.162355643783376\n",
      "Chunk best: 5.055177024506869\n",
      "Chunk mean: 4.143395748840818\n",
      "Chunk best: 5.233800394625665\n",
      "Chunk mean: 4.147329789906306\n",
      "Chunk best: 5.056348966138521\n",
      "Chunk mean: 4.141287016388001\n",
      "Chunk best: 5.129883499898947\n",
      "Chunk mean: 4.169692807204061\n",
      "Chunk best: 5.542405143952113\n",
      "Chunk mean: 4.164409427816281\n",
      "Chunk best: 5.45274610613606\n",
      "Chunk mean: 4.1930102184231455\n",
      "Chunk best: 5.182512644464595\n",
      "Chunk mean: 4.157609059467348\n",
      "Chunk best: 5.038634007992292\n",
      "Chunk mean: 4.163682867536256\n",
      "Chunk best: 5.5362092945213215\n",
      "Chunk mean: 4.140794424189295\n",
      "Chunk best: 4.977700781570747\n",
      "Chunk mean: 4.174485563229537\n",
      "Chunk best: 5.133689945471202\n",
      "Chunk mean: 4.149576751734453\n",
      "Chunk best: 5.125473806032217\n",
      "Chunk mean: 4.149964927768477\n",
      "Chunk best: 5.367651331177415\n",
      "Chunk mean: 4.150978172491452\n",
      "Chunk best: 5.24812703717261\n",
      "Chunk mean: 4.164274285309467\n",
      "Chunk best: 5.208279915521455\n",
      "Chunk mean: 4.152486558388553\n",
      "Chunk best: 5.608366012930174\n",
      "Chunk mean: 4.166364875723026\n",
      "Chunk best: 5.153285319563924\n",
      "Chunk mean: 4.171209480655679\n",
      "Chunk best: 5.259684860997912\n",
      "Chunk mean: 4.169942628623415\n",
      "Chunk best: 5.299304857221525\n",
      "Chunk mean: 4.14783801571979\n",
      "Chunk best: 5.151584868996955\n",
      "Chunk mean: 4.170158268535953\n",
      "Chunk best: 5.035987502306718\n",
      "Chunk mean: 4.164196972531163\n",
      "Chunk best: 5.040522129885562\n",
      "Chunk mean: 4.136073212771917\n",
      "Chunk best: 5.079003255502563\n",
      "Chunk mean: 4.170786434316257\n",
      "Chunk best: 5.101701484585374\n",
      "Chunk mean: 4.153393339370019\n",
      "Chunk best: 5.022332366594515\n",
      "Chunk mean: 4.147097418063118\n",
      "Chunk best: 5.28450192202626\n",
      "Chunk mean: 4.16258425349897\n",
      "Chunk best: 5.825937193438221\n",
      "Chunk mean: 4.140686442288411\n",
      "Chunk best: 5.078875005071965\n",
      "Chunk mean: 4.155169740543599\n",
      "Chunk best: 5.286491147374206\n",
      "Chunk mean: 4.159096734327342\n",
      "Chunk best: 5.293174822279732\n",
      "Chunk mean: 4.1769936973595465\n",
      "Chunk best: 5.083477871334676\n",
      "Chunk mean: 4.148876783416767\n",
      "Chunk best: 5.513699941710087\n",
      "Chunk mean: 4.152250028105192\n",
      "Chunk best: 4.94528210185805\n",
      "Chunk mean: 4.177110185880226\n",
      "Chunk best: 5.252049939916845\n",
      "Chunk mean: 4.151025272085173\n",
      "Chunk best: 5.347337153178477\n",
      "Chunk mean: 4.167581140918033\n",
      "Chunk best: 5.107712731643524\n",
      "Chunk mean: 4.151195893039442\n",
      "Chunk best: 5.1386745991039895\n",
      "Chunk mean: 4.162763408507408\n",
      "Chunk best: 5.01225606434277\n",
      "Chunk mean: 4.174255093856413\n",
      "Chunk best: 5.126871196027546\n",
      "Chunk mean: 4.152260390991627\n",
      "Chunk best: 4.982595362993852\n"
     ]
    }
   ],
   "source": [
    "# TODO: inference: (1) load data (2) convert representation (3) predict activity (4) show drug candidates\n",
    "from tqdm.notebook import tqdm\n",
    "zinc_df = pd.read_csv('zinc.smi', sep=' ', chunksize=1000, names=['Smiles', 'id'], header=1)\n",
    "for chunk in tqdm(zinc_df):\n",
    "    X_zinc, _ = PropertyFeaturizer(y_column='id')(chunk)\n",
    "    y_zinc = model_base_reg.predict(X_zinc)\n",
    "    print(f'Chunk mean: {y_zinc.mean()}')\n",
    "    print(f'Chunk best: {y_zinc.max()}')\n",
    "    chunk['activity'] = y_zinc\n",
    "    chunk.to_csv('zinc_activity.csv', mode='a', header=False)"
   ]
  },
  {
   "cell_type": "code",
   "execution_count": 151,
   "outputs": [
    {
     "data": {
      "text/plain": "<Figure size 1000x1000 with 1 Axes>",
      "image/png": "[encoded data removed]"
     },
     "metadata": {},
     "output_type": "display_data"
    }
   ],
   "source": [
    "import seaborn as sns\n",
    "zinc_activity_df = pd.read_csv('zinc_activity.csv', names=['Smiles', 'id', 'activity'])\n",
    "fig, ax = plt.subplots(figsize=(10, 10))\n",
    "sns.histplot(data=zinc_activity_df, x='activity', bins=100, ax=ax, stat='probability', color='orange')\n",
    "sns.histplot(data=herg, x='pIC50', bins=100, ax=ax, stat='probability', color='green')\n",
    "\n",
    "plt.title('Distribution of predicted activities')\n",
    "plt.legend(['ZINC', 'HERG'])\n",
    "plt.show()"
   ],
   "metadata": {
    "collapsed": false,
    "ExecuteTime": {
     "end_time": "2023-06-17T11:01:27.212074386Z",
     "start_time": "2023-06-17T11:01:26.543141024Z"
    }
   }
  },
  {
   "cell_type": "code",
   "execution_count": 156,
   "outputs": [],
   "source": [
    "zinc_activity_df.sort_values(by='activity', ascending=False).to_csv('zinc_activity_top100.csv', index=False)"
   ],
   "metadata": {
    "collapsed": false,
    "ExecuteTime": {
     "end_time": "2023-06-17T11:03:43.535853784Z",
     "start_time": "2023-06-17T11:03:43.266375879Z"
    }
   }
  },
  {
   "cell_type": "markdown",
   "id": "ba027987",
   "metadata": {},
   "source": [
    "**(optional) Exercise 2.1.** *(Compound novelty and diversity)*\n",
    "\n",
    "How similar are the selected compounds to the training data? Can you measure the diversity of these compounds? How should these values impact your selection?"
   ]
  },
  {
   "cell_type": "code",
   "execution_count": null,
   "id": "0dc65ca3",
   "metadata": {},
   "outputs": [],
   "source": [
    "# TODO: Check structural similarity"
   ]
  },
  {
   "cell_type": "markdown",
   "id": "738763e0",
   "metadata": {},
   "source": [
    "You can use **t-SNE** to find structural similarities in your dataset. t-SNE is a tool for high-dimensional data visualization (**dimensionality reduction**). It transforms n-dimensional data into 2-dimensional map in which distances should be proportional to the distances in the original space."
   ]
  },
  {
   "cell_type": "code",
   "execution_count": 152,
   "id": "3fc49217",
   "metadata": {
    "ExecuteTime": {
     "end_time": "2023-06-17T11:02:20.318744116Z",
     "start_time": "2023-06-17T11:02:19.040837771Z"
    }
   },
   "outputs": [],
   "source": [
    "from sklearn.manifold import TSNE\n",
    "\n",
    "def get_morgan(smiles):\n",
    "    mol = Chem.MolFromSmiles(smiles)\n",
    "    fingerprint = AllChem.GetMorganFingerprintAsBitVect(mol, radius=4)\n",
    "    return np.array(fingerprint)\n",
    "\n",
    "df_zinc = pd.read_csv('zinc.smi', sep=' ', index_col=1).sample(n=1000)\n",
    "df_zinc['fingerprint'] = [get_morgan(smiles) for smiles in df_zinc.smiles]"
   ]
  },
  {
   "cell_type": "code",
   "execution_count": 153,
   "id": "edc0aac3",
   "metadata": {
    "ExecuteTime": {
     "end_time": "2023-06-17T11:02:23.351661116Z",
     "start_time": "2023-06-17T11:02:20.319064963Z"
    }
   },
   "outputs": [
    {
     "name": "stderr",
     "output_type": "stream",
     "text": [
      "/home/anton/miniconda3/envs/mldd23/lib/python3.9/site-packages/sklearn/metrics/pairwise.py:2025: DataConversionWarning: Data was converted to boolean for metric jaccard\n",
      "  warnings.warn(msg, DataConversionWarning)\n"
     ]
    }
   ],
   "source": [
    "tsne = TSNE(metric='jaccard')\n",
    "components = tsne.fit_transform(np.stack(df_zinc.fingerprint))"
   ]
  },
  {
   "cell_type": "code",
   "execution_count": 154,
   "id": "4d2af722",
   "metadata": {
    "ExecuteTime": {
     "end_time": "2023-06-17T11:02:23.491019996Z",
     "start_time": "2023-06-17T11:02:23.351397887Z"
    }
   },
   "outputs": [
    {
     "data": {
      "text/plain": "<Figure size 640x480 with 1 Axes>",
      "image/png": "[encoded data removed]"
     },
     "metadata": {},
     "output_type": "display_data"
    }
   ],
   "source": [
    "plt.scatter(components[:, 0], components[:, 1], s=10)\n",
    "plt.gca().set_aspect('equal')\n",
    "plt.title('t-SNE map of a ZINC subset')\n",
    "plt.xlabel('dim 1')\n",
    "plt.ylabel('dim 2')\n",
    "plt.show()"
   ]
  },
  {
   "cell_type": "markdown",
   "id": "724b5645",
   "metadata": {},
   "source": [
    "**(optional) Exercise 2.2.** *(Additional ADMET filters)*\n",
    "\n",
    "When selecting compounds, we need to consider also other properties, e.g. toxicity. Some structural patterns are well known to cause issues in terms of toxicity or synthesizability. We can quickly filter out compounds containing these patterns using their SMARTS strings (\"regular expressions\" for SMILES).\n",
    "\n",
    "Use [SureChEMBL](https://www.surechembl.org/search/) to remove problematic compounds."
   ]
  },
  {
   "cell_type": "code",
   "execution_count": null,
   "id": "da4176ed",
   "metadata": {},
   "outputs": [],
   "source": [
    "# TODO: Use SMARTS to filter out compounds"
   ]
  },
  {
   "cell_type": "markdown",
   "id": "a026098b",
   "metadata": {},
   "source": [
    "# PubChem"
   ]
  },
  {
   "cell_type": "markdown",
   "id": "b58edab6",
   "metadata": {},
   "source": [
    "[PubChem](https://pubchem.ncbi.nlm.nih.gov/) is a database of chemical information about small molecules. It contains various ADMET properties and 3D crystal structures of these molecules. You can easily find any compound using the SMILES representation or by drawing the structure in the tool on the website."
   ]
  },
  {
   "cell_type": "markdown",
   "id": "6fa5b555",
   "metadata": {},
   "source": [
    "**(optional) Exercise 3.** What information can you find about your selected top compounds?"
   ]
  }
 ],
 "metadata": {
  "kernelspec": {
   "display_name": "Python 3 (ipykernel)",
   "language": "python",
   "name": "python3"
  },
  "language_info": {
   "codemirror_mode": {
    "name": "ipython",
    "version": 3
   },
   "file_extension": ".py",
   "mimetype": "text/x-python",
   "name": "python",
   "nbconvert_exporter": "python",
   "pygments_lexer": "ipython3",
   "version": "3.9.16"
  }
 },
 "nbformat": 4,
 "nbformat_minor": 5
}
